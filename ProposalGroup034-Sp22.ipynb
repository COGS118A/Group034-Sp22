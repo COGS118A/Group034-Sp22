{
 "cells": [
  {
   "cell_type": "markdown",
   "metadata": {},
   "source": [
    "# COGS 118A- Project Proposal"
   ]
  },
  {
   "cell_type": "markdown",
   "metadata": {},
   "source": [
    "# Names\n",
    "\n",
    "Hopefully your team is at least this good. Obviously you should replace these with your names.\n",
    "\n",
    "- Shenghao Weng\n",
    "- Xianglong Wang\n",
    "- Jiying Wang\n",
    "- Shihan Qian"
   ]
  },
  {
   "cell_type": "markdown",
   "metadata": {},
   "source": [
    "# Abstract \n",
    "Our goal is to predict the end-match result of the e-sport League of Legend based on in game data (10 minutes data). To be specific, we would like to predict the winner (represented by team blue and team red), based on in-game statistics such as first-blood, first dragon and more. The data was extracted from the API that Riot provided. They are measured by matches finished by high-level players. We will use the winner data sample as the label and implement a binary classification Machine Learning model on it. The performance will be measured by the percentage of successful prediction. There is a high potential that the victory will be associated with one or even more of these characteristics."
   ]
  },
  {
   "cell_type": "markdown",
   "metadata": {},
   "source": [
    "# Background\n",
    "\n",
    "Nowadays, League of Legends could be said as one of the most popular and successful Multiplayer Online Battle Arena(MOBA) games in the world. Each game has two teams of five people across three lanes. The most important and intriguing part to the players is the ranking competition. It’s a game that utilizes both the players' skills and team building abilities[^1]. In addition to those, there are other variables such as the combination of heroes, the number of dragons killed, and the number of minions killed that determine the success of the game.[2]  As the popularity grow, the world league of legend competition becomes more specialized like a sports game, thus the professional team want to know the probability of winning the game and the determinants to achieve it for team training.\n",
    "Therefore, we wonder if we are able to use these pre-gram and in-game features including player’s personal skills , team bonding and decision making in each match to make a prediction of the champion of the team. The analyses on these features to the game are useful for training purposes to improve the preparation of players in addition to the outcome prediction of each match.[3]  Machine learning is a useful application as a game prediction in sports and esports. For this particular problem, we want to predict win or lose through a classification problem that separates into two classes.\n",
    "\n",
    "1.^:Costa, Lincoln Magalhaes, et al. “Feature Analysis to League of Legends Victory Prediction on the Picks and Bans Phase.” 2021 IEEE Conference on Games (CoG), 2021, https://doi.org/10.1109/cog52621.2021.9619019. \n",
    "2.^:Do, Tiffany D., et al. “Using Machine Learning to Predict Game Outcomes Based on Player-Champion Experience in League of Legends.” The 16th International Conference on the Foundations of Digital Games (FDG) 2021, 2021, https://doi.org/10.1145/3472538.3472579. \n",
    "3.^:Bahrololloomi, Farnod, et al. “A Machine Learning Based Analysis of e-Sports Player Performances in League of Legends for Winning Prediction Based on Player Roles and Performances.” Proceedings of the 17th International Joint Conference on Computer Vision, Imaging and Computer Graphics Theory and Applications, 2022, https://doi.org/10.5220/0010895900003124. "
   ]
  },
  {
   "cell_type": "markdown",
   "metadata": {},
   "source": [
    "# Problem Statement\n",
    "\n",
    "We are trying to implement a model that takes in-match data as inputs and outputs the predicted end-result of the match. In general, binary-classification related Machine Learning models would be a good solution for this problem. Since the results of the game are binary (win or lose). The attributes in our model include continuous and discrete values and are directly retracted from the official API from Riot. These attributes are strongly related to the result of the match. \n",
    "\n",
    "Predicting the result of a game would be valuable in a variety of cases. Under any circumstances that any individual would like to predict the outcome of a game, the problem will be replicable. "
   ]
  },
  {
   "cell_type": "markdown",
   "metadata": {},
   "source": [
    "# Data\n",
    "\n",
    "1. Link/reference to obtain it: We will obtain the data from the API that Riot provided at https://www.kaggle.com/datasets/bobbyscience/league-of-legends-diamond-ranked-games-10-min.\n",
    "\n",
    "2. Description of the size of the dataset: This dataset contains 40 variables, and approximately 10k（9879） of observations.\n",
    "\n",
    "3. What an observation consists of:\n",
    "\t- gameId：Unique RIOT ID of the game. \n",
    "\t- blueWins：1 if the blue team has won, 0 otherwise.\n",
    "\t- blueWardsPlaced：Number of warding totems placed by the blue team on the map\n",
    "\t- blueWardsDestroyed：Number of enemy warding totems the blue team has destroyed\n",
    "\t- blueFirstBlood：First kill of the game. 1 if the blue team did the first kill, 0 otherwise\n",
    "\t- blueKills：Number of enemies killed by the blue team\n",
    "\t- blueDeaths：Number of deaths (blue team)\n",
    "\t- blueAssists：Number of kill assists (blue team)\n",
    "\t- blueEliteMonsters：Number of elite monsters killed by the blue team (Dragons and Heralds)\n",
    "\t- blueDragons：Number of dragons killed by the blue team\n",
    "\t- blueHeralds：Number of heralds killed by the blue team\n",
    "\t- blueTowersDestroyed：Number of structures destroyed by the blue team (towers.)\n",
    "\t- blueTotalGold：Blue team total gold\n",
    "\t- blueAvgLevel：Blue team average champion level\n",
    "\t- blueTotalExperience：Blue team total experience\n",
    "\t- blueTotalMinionsKilled：Blue team total minions killed \n",
    "\t- blueTotalJungleMinionsKilled：Blue team total jungle monsters killed\n",
    "\t- blueGoldDiff：Blue team gold difference compared to the enemy team\n",
    "\t- blueExperienceDiff：Blue team experience difference compared to the enemy team\n",
    "\t- blueCSPerMin：Blue team CS (minions) per minute\n",
    "\t- blueGoldPerMin：Blue team gold per minute\n",
    "\t- redWardsPlaced：Number of warding totems placed by the red team on the map\n",
    "\t- redWardsDestroyed：Number of enemy warding totems the red team has destroyed\n",
    "\t- redFirstBlood：First kill of the game. 1 if the red team did the first kill, 0 otherwise\n",
    "\t- redKills：Number of enemies killed by the red team\n",
    "\t- redDeaths：Number of deaths (red team)\n",
    "\t- redAssists：Number of kill assists (red team)\n",
    "\t- redEliteMonsters：Number of elite monsters killed by the red team (Dragons and Heralds)\n",
    "\t- redDragons：Number of dragons killed by the red team\n",
    "\t- redHeralds：Number of heralds killed by the red team\n",
    "\t- redTowersDestroyed：Number of structures destroyed by the red team (towers...)\n",
    "\t- redTotalGold：Red team total gold\n",
    "\t- redAvgLevel：Red team average champion level\n",
    "\t- redTotalExperience：Red team total experience\n",
    "\t- redTotalMinionsKilled：Red team total minions killed (CS)\n",
    "\t- redTotalJungleMinionsKilled：Red team total jungle monsters killed\n",
    "\t- redGoldDiff：Red team gold difference compared to the enemy team\n",
    "\t- redExperienceDiff：Red team experience difference compared to the enemy team\n",
    "\t- redCSPerMin：Red team CS (minions) per minute\n",
    "\t- redGoldPerMin：Red team gold per minute\n",
    "\n",
    "4. What some critical variables are, how they are represented:\n",
    "\tblueWins：1 if the blue team has won, 0 otherwise.\n",
    "\tblueKills：Number of enemies killed by the blue team\n",
    "\tblueDeaths：Number of deaths (blue team)\n",
    "\tblueWardsPlaced：Number of warding totems placed by the blue team on the map\n",
    "\tblueTowersDestroyed：Number of structures destroyed by the blue team (towers.)\n",
    "\n",
    "5. Special handling, transformations, cleaning, etc will be needed:  Because we have the already cleaned data and we don’t have any categorical data and almost all numerical data, thus we don’t need special handling and transformation for the dataset, unless we need to do special manipulations to the data to satisfied our model building.\n"
   ]
  },
  {
   "cell_type": "markdown",
   "metadata": {},
   "source": [
    "# Proposed Solution\n",
    "\n",
    "We will recommend a set of heroes, runes, outfits and game strategies that will help users maximize their win rate over time and thus win the game. To achieve this goal, we will use a series of data manipulation methods including NumPy, Scikit-learn's classification.First, we will test the correlation between each features and the others. Then, we will sort out and rank the features that are most influencing to the blueWins(It’s the result of the game). Find out the 10 most influencing features. Next, we start to select the models from decision tree, Naive Bayes, random forest, logistic regression, and k-nearest neighbors.Then we list out and compare the accuracy of the test data among these models. Until we find the best classifier model, we start fine tuning the classifier using hyperparameter tuning. For the number of features needed, we then compare the accuracy of test data between the model with all features included and only 10 most influencing features included. To test the solution, we will draw a decision boundary and figure out the training error, testing error, and generalization error. \n",
    "\n",
    "The benchmark model we will use is Linear Regression and k-Nearest Neighbors. These are the two most commonly used models for doing classification. Therefore, we will use the basic linear regression amd K-nearest neighbor to use as a benchmark for setting a basic requirement for our performance of model.\n"
   ]
  },
  {
   "cell_type": "markdown",
   "metadata": {},
   "source": [
    "# Evaluation Metrics\n",
    "\n",
    "Define: TP=True Positive, TN=True Negative, FP=False Positive, FN=False Negative \n",
    "\n",
    "Accuracy, Accuracy_score, F1 Score, Recall, ROC AUC Score, log loss by Scikit-learn \n",
    "\n",
    "Accuracy and Precision: Accuracy and Precision classification score, determining the amount of correct classification. Accuracy Score = (TP+TN)/(TP+TN+FP+FN). Precision Score=TP/(TP+FP)\n",
    "\n",
    "Recall: Definition:\" The recall is the ratio tp / (tp + fn) where tp is the number of true positives and fn the number of false negatives. The recall is intuitively the ability of the classifier to find all the positive samples.\" Recall = TP/(TP+FN)\n",
    "\n",
    "F1: Definition: \"The F1 score can be interpreted as a harmonic mean of the precision and recall, where an F1 score reaches its best value at 1 and worst score at 0. The relative contribution of precision and recall to the F1 score are equal. The formula for the F1 score is: F1 = 2 * (precision * recall) / (precision + recall)\" \n",
    "\n",
    "ROC AUC: Definition:\"Compute Area Under the Receiver Operating Characteristic Curve (ROC AUC) from prediction scores.\" \n",
    "\n",
    "log loss: Definition:\" This is the loss function used in (multinomial) logistic regression and extensions of it such as neural networks, defined as the negative log-likelihood of a logistic model that returns y_pred probabilities for its training data y_true. The log loss is only defined for two or more labels.\"  \n",
    "\n",
    "1. https://scikit-learn.org/stable/modules/generated/sklearn.metrics.recall_score.html#sklearn.metrics.recall_score\n",
    "2. https://scikit-learn.org/stable/modules/generated/sklearn.metrics.f1_score.html#sklearn.metrics.f1_score\n",
    "3. https://scikit-learn.org/stable/modules/generated/sklearn.metrics.roc_auc_score.html#sklearn.metrics.roc_auc_score\n",
    "4.  https://scikit-learn.org/stable/modules/generated/sklearn.metrics.log_loss.html#sklearn.metrics.log_loss\n"
   ]
  },
  {
   "cell_type": "markdown",
   "metadata": {},
   "source": [
    "# Ethics & Privacy"
   ]
  },
  {
   "cell_type": "markdown",
   "metadata": {},
   "source": [
    "The question and the data: The object of our study is the effect of different gameplay strategies on the game ending within the game. Since these game data are obtained by computer calculations, we can assume that they are objective unless there are biases in the game designer's game writing. Our data is generated automatically after each game and recorded on the Riot cloud where we get the data from. \n",
    "\n",
    "Things related to this study include game developers Riot, players, the game itself and a number of its derivatives such as game strategies, gaming devices, etc. Since most of our research is on the values of the games themselves, the probability that they affect real-life sensitive topics is not very high.\n",
    "\n",
    "Since each version of League of Legends changes heroes, equipment, and in-game values, the results may vary significantly from version to version, but this does not affect the accuracy of the algorithm itself.\n",
    "\n",
    "Some players do not want their game data to be made public. Since they can only start the game if they agree to Riot's privacy policy, their game data is made public, but personal information is not recorded unless it is shown in the ID, so we use a special code for the ID to avoid privacy issues.\n",
    "\n",
    "When evaluating this model, we should use a double-blind approach to circumvent the bias caused by subjectivity. We should also clarify whether there is a correlation between the two factors or whether the correlation between the two factors is caused by other factors.\n",
    "\n",
    "Although all our numbers are calculated by computers, each number that exists in the game has its own unique meaning. Although the results produced by this model may be black boxes, we will try to figure out the meaning behind this result and visualize the strategy.\n"
   ]
  },
  {
   "cell_type": "markdown",
   "metadata": {},
   "source": [
    "# Team Expectations "
   ]
  },
  {
   "cell_type": "markdown",
   "metadata": {},
   "source": [
    "- Everyone in the group should show up at the agreed upon, weekly meeting time. (Most likely on Wednesdays, Thursdays, and Fridays after 4pm) (Via Zoom).\n",
    "- We expect all members to participate in the discussion with mutual respect and actively provide appropriate suggestions and feedback.\n",
    "- We expect all members to contribute to the project equally.\n",
    "- We expect all members to participate seriously and provide good ideas and thoughts. In this process, group members can learn from each other.\n",
    "- We expect all members to have new gains in the process of doing the project.\n",
    "- We don't work together on every part, but rather split the parts of the project based on skill sets (unless a part is better suited when we all contribute).\n",
    "- Each member contributes to their respective role and completes their work on time\n",
    "- If someone is not contributing adequately or is often late, we respectfully address the issue early.\n"
   ]
  },
  {
   "cell_type": "markdown",
   "metadata": {},
   "source": [
    "# Project Timeline Proposal"
   ]
  },
  {
   "cell_type": "markdown",
   "metadata": {},
   "source": [
    "Replace this with something meaningful that is appropriate for your needs. It doesn't have to be something that fits this format.  It doesn't have to be set in stone... \"no battle plan survives contact with the enemy\". But you need a battle plan nonetheless, and you need to keep it updated so you understand what you are trying to accomplish, who's responsible for what, and what the expected due dates are for each item.\n",
    "\n",
    "| Meeting Date  | Meeting Time| Completed Before Meeting  | Discuss at Meeting |\n",
    "|---|---|---|---|\n",
    "| 1/20  |  1 PM |  Brainstorm topics/questions (all)  | Determine best form of communication; Discuss and decide on final project topic; discuss hypothesis; begin background research | \n",
    "| 1/26  |  10 AM |  Do background research on topic (Pelé) | Discuss ideal dataset(s) and ethics; draft project proposal | \n",
    "| 2/1  | 10 AM  | Edit, finalize, and submit proposal; Search for datasets (Beckenbaur)  | Discuss Wrangling and possible analytical approaches; Assign group members to lead each specific part   |\n",
    "| 2/14  | 6 PM  | Import & Wrangle Data ,do some EDA (Maradonna) | Review/Edit wrangling/EDA; Discuss Analysis Plan   |\n",
    "| 2/23  | 12 PM  | Finalize wrangling/EDA; Begin programming for project (Cruyff) | Discuss/edit project code; Complete project |\n",
    "| 3/13  | 12 PM  | Complete analysis; Draft results/conclusion/discussion (Carlos)| Discuss/edit full project |\n",
    "| 3/19  | Before 11:59 PM  | NA | Turn in Final Project  |\n",
    "| 4/22  | Before 11:59 PM  | NA | Project proposal |\n",
    "| 4/29  | Before 11:59 PM  | NA | Peer review of proposals*  |\n",
    "| 5/13  | Before 11:59 PM  | NA | Checkpoint  |\n",
    "| 5/20  | Before 11:59 PM  | NA | Peer review of checkpoint*  |\n",
    "| 6/8  | Before 11:59 PM  | NA | Final project, team eval survey*  |\n"
   ]
  },
  {
   "cell_type": "markdown",
   "metadata": {},
   "source": [
    "# Footnotes\n",
    "<a name=\"lorenznote\"></a>1.[^](#lorenz): Lorenz, T. (9 Dec 2021) Birds Aren’t Real, or Are They? Inside a Gen Z Conspiracy Theory. *The New York Times*. https://www.nytimes.com/2021/12/09/technology/birds-arent-real-gen-z-misinformation.html<br> \n",
    "<a name=\"admonishnote\"></a>2.[^](#admonish): Also refs should be important to the background, not some randomly chosen vaguely related stuff. Include a web link if possible in refs as above.<br>\n",
    "<a name=\"sotanote\"></a>3.[^](#sota): Perhaps the current state of the art solution such as you see on [Papers with code](https://paperswithcode.com/sota). Or maybe not SOTA, but rather a standard textbook/Kaggle solution to this kind of problem\n"
   ]
  },
  {
   "cell_type": "code",
   "execution_count": null,
   "metadata": {},
   "outputs": [],
   "source": []
  }
 ],
 "metadata": {
  "kernelspec": {
   "display_name": "Python 3",
   "language": "python",
   "name": "python3"
  },
  "language_info": {
   "codemirror_mode": {
    "name": "ipython",
    "version": 3
   },
   "file_extension": ".py",
   "mimetype": "text/x-python",
   "name": "python",
   "nbconvert_exporter": "python",
   "pygments_lexer": "ipython3",
   "version": "3.6.13"
  }
 },
 "nbformat": 4,
 "nbformat_minor": 2
}
